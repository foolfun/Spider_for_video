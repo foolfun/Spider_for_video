{
 "cells": [
  {
   "cell_type": "markdown",
   "metadata": {},
   "source": [
    "# B站番剧评分数据分析和番剧推荐，用类型和年份进行用户评分预测"
   ]
  },
  {
   "attachments": {},
   "cell_type": "markdown",
   "metadata": {},
   "source": [
    "### 明确问题：\n",
    "\n",
    "    明确要解决的问题：番剧推荐，番剧的产量 \n",
    "    =>明确需要的数据：剧番id、标题、标签、长评数、短评数、年份、视频链接；用户id，剧番id，评分，评分时间\n",
    "\n",
    "### 确定验证方案\n",
    "  \n",
    "     1）数据获取：爬虫，b站番剧\n",
    "     2）数据处理\n",
    "     3）数据展示和分析\n",
    "     4）推荐算法+预测算法\n",
    "\n",
    "### 设计预测模型\n",
    "        \n",
    "     1）新用户：基于内容的推荐\n",
    "     2）老用户：基于协同过滤的推荐\n",
    "     3）根据类型和时间进行新番的评分预测\n",
    "\n",
    "### 实施流程：\n",
    "\n",
    "    1、获取数据：爬虫\n",
    "    2、了解数据：数据处理和展示\n",
    "    3、构建模型：推荐，预测\n",
    " \n",
    "#### 1 获取数据-爬虫：\n",
    "\n",
    "    爬虫存在的问题：\n",
    "        1）网络问题，会导致一些内容没有爬取到，而没存入csv中；\n",
    "        2）可能有些特殊情况，比如评论时间的问题等，格式不一致或者其他情况，导致未爬取成功；\n",
    "        这些情况导致的数据缺失问题，由一开始的基数进行弥补，即为了获取较多的数据，一开始选取的番剧数量也足够多。\n",
    "\n",
    "    爬虫遇到的问题&解决方法：\n",
    "\n",
    "| 出现的问题 | 猜测原因 | 解决方法 |\n",
    "|: ------ |: ------ | :------ |\n",
    "| 用request获取页面code无法获取真正的内容 | 页面是js动态加载的 | 借助selenium库，利用模拟浏览器模式打开网页获取内容<br/>```chrome_options = webdriver.ChromeOptions()<br/>#使用headless无界面浏览器模式```<br/>```chrome_options.add_argument('--headless') # 增加无界面选项```<br/>```chrome_options.add_argument('--disable-gpu') #如果不加这个选项，有时定位会出现问题```<br/>```#启动浏览器```<br/>```driver =webdriver.Chrome(options=chrome_options)``` <br/>```driver.get(url)```<br/>```content = driver.page_source```<br/>```soup = BeautifulSoup(content, 'lxml')```<br/>```driver.close()```<br/>|\n",
    "| 突然访问失败，网页浏览也是 | ip被限制 | 设置随机等待时间，<br/>```rand_seconds = random.choice([1, 3]) + random.random()```<br/>  ```sleep(rand_seconds) ```|\n",
    "| 重复爬取第一页内容 | 反爬机制 | 在更改url获取页面code的时候，\t<br/>使用 driver.refresh()进行页面刷新 |\n",
    "| url不变，下滑页面变化 | 动态加载 | ``` # 滑动动态加载页面，让浏览器执行简单的js代码```<br/> ```  js = \"window.scrollTo(0,document.body.scrollHeight)\"```<br/>``` driver.execute_script(js)``` |\n",
    "| 长评论和短评论的分配 | -- | 按照比例分配，选取爬取评分的数量的基准是参考最少的评论总数 |\n",
    "\n",
    "#### 2 了解数据-数据处理和展示\n",
    "\n",
    "     数据处理：\n",
    "| 爬虫过程 | 获得爬虫数据之后 | \n",
    "|:------ |:------ |\n",
    "|  1\\对重复爬取的link进行去重；<br/>2\\对评论时间的处理，把只有月日、“昨天”，“x小时前”，<br/>“x分钟前”这样的非标准日期进行转化，变成年月日的日期形式；<br/>3\\对于不存在评论的番剧已经进行跳过处理，不会爬取； | 1\\对于还有可能的存在是数据重复进行处理<br/>2\\数据标准化（对于番剧信息里面的'year'进行处理；<br/>提取评分和番剧信息里面的年，月，以便画图分析） |\n",
    "    \n",
    "    数据展示：\n",
    "        统计：一共有多少番剧，一共有多少用户进行评分，\n",
    "        柱状图：随着时间评分平均值的分布，总数的分布，剧番数量的分布；按月份的分布；每个番的每年或者每月评分分布情况；\n",
    "\n",
    "        \n",
    "#### 3 构建模型\n",
    "    推荐：\n",
    "    预测："
   ]
  },
  {
   "cell_type": "markdown",
   "metadata": {},
   "source": [
    "# 导包"
   ]
  },
  {
   "cell_type": "code",
   "execution_count": 1,
   "metadata": {
    "collapsed": true
   },
   "outputs": [],
   "source": [
    "import pandas as pd\n",
    "import numpy as np\n",
    "import matplotlib.pyplot as plt\n",
    "from scipy.sparse import csr_matrix\n",
    "from sklearn.neighbors import NearestNeighbors\n",
    "from sklearn.decomposition import TruncatedSVD\n",
    "%matplotlib inline\n",
    "%config InlineBackend.figure_format ='svg'#为了画图更美观"
   ]
  },
  {
   "cell_type": "markdown",
   "metadata": {},
   "source": [
    "# 数据标准化"
   ]
  },
  {
   "cell_type": "code",
   "execution_count": 54,
   "metadata": {},
   "outputs": [
    {
     "data": {
      "text/plain": [
       "(350, 7)"
      ]
     },
     "execution_count": 54,
     "metadata": {},
     "output_type": "execute_result"
    }
   ],
   "source": [
    "#导入电影信息文件\n",
    "video = pd.read_csv('video_data2.csv')\n",
    "video.shape"
   ]
  },
  {
   "cell_type": "markdown",
   "metadata": {},
   "source": [
    "## 检查和去重"
   ]
  },
  {
   "cell_type": "code",
   "execution_count": 55,
   "metadata": {},
   "outputs": [
    {
     "data": {
      "text/plain": [
       "(350, 7)"
      ]
     },
     "execution_count": 55,
     "metadata": {},
     "output_type": "execute_result"
    }
   ],
   "source": [
    "# 去重\n",
    "video_df=video.drop_duplicates()\n",
    "video_df.shape"
   ]
  },
  {
   "cell_type": "code",
   "execution_count": 56,
   "metadata": {},
   "outputs": [
    {
     "data": {
      "text/html": [
       "<div>\n",
       "<style scoped>\n",
       "    .dataframe tbody tr th:only-of-type {\n",
       "        vertical-align: middle;\n",
       "    }\n",
       "\n",
       "    .dataframe tbody tr th {\n",
       "        vertical-align: top;\n",
       "    }\n",
       "\n",
       "    .dataframe thead th {\n",
       "        text-align: right;\n",
       "    }\n",
       "</style>\n",
       "<table border=\"1\" class=\"dataframe\">\n",
       "  <thead>\n",
       "    <tr style=\"text-align: right;\">\n",
       "      <th></th>\n",
       "      <th>v_id</th>\n",
       "      <th>title</th>\n",
       "      <th>genres</th>\n",
       "      <th>year</th>\n",
       "      <th>long_comm</th>\n",
       "      <th>short_comm</th>\n",
       "      <th>detail_link</th>\n",
       "    </tr>\n",
       "  </thead>\n",
       "  <tbody>\n",
       "    <tr>\n",
       "      <td>0</td>\n",
       "      <td>BV1Lb4113744</td>\n",
       "      <td>鬼灭之刃</td>\n",
       "      <td>漫画改,战斗,热血,声控,</td>\n",
       "      <td>2019年4月7日</td>\n",
       "      <td>571</td>\n",
       "      <td>117950</td>\n",
       "      <td>http://www.bilibili.com/bangumi/media/md22718131/</td>\n",
       "    </tr>\n",
       "    <tr>\n",
       "      <td>1</td>\n",
       "      <td>BV1as411p7ae</td>\n",
       "      <td>工作细胞</td>\n",
       "      <td>搞笑,战斗,日常,声控,</td>\n",
       "      <td>2018年7月8日</td>\n",
       "      <td>236</td>\n",
       "      <td>20754</td>\n",
       "      <td>http://www.bilibili.com/bangumi/media/md102392/</td>\n",
       "    </tr>\n",
       "    <tr>\n",
       "      <td>2</td>\n",
       "      <td>BV1pV411o7yD</td>\n",
       "      <td>辉夜大小姐想让我告白？～天才们的恋爱头脑战～</td>\n",
       "      <td>搞笑,校园,恋爱,漫画改,</td>\n",
       "      <td>2020年4月12日</td>\n",
       "      <td>190</td>\n",
       "      <td>19169</td>\n",
       "      <td>http://www.bilibili.com/bangumi/media/md28228367/</td>\n",
       "    </tr>\n",
       "    <tr>\n",
       "      <td>3</td>\n",
       "      <td>BV11x411q7iu</td>\n",
       "      <td>欢迎来到实力至上主义的教室</td>\n",
       "      <td>小说改,校园,</td>\n",
       "      <td>2017年7月13日</td>\n",
       "      <td>310</td>\n",
       "      <td>21943</td>\n",
       "      <td>http://www.bilibili.com/bangumi/media/md6339/</td>\n",
       "    </tr>\n",
       "    <tr>\n",
       "      <td>4</td>\n",
       "      <td>BV1ox411Q7V7</td>\n",
       "      <td>埃罗芒阿老师</td>\n",
       "      <td>小说改,搞笑,恋爱,</td>\n",
       "      <td>2017年4月9日</td>\n",
       "      <td>152</td>\n",
       "      <td>15227</td>\n",
       "      <td>http://www.bilibili.com/bangumi/media/md5997/</td>\n",
       "    </tr>\n",
       "  </tbody>\n",
       "</table>\n",
       "</div>"
      ],
      "text/plain": [
       "           v_id                   title         genres        year  long_comm  \\\n",
       "0  BV1Lb4113744                    鬼灭之刃  漫画改,战斗,热血,声控,   2019年4月7日        571   \n",
       "1  BV1as411p7ae                    工作细胞   搞笑,战斗,日常,声控,   2018年7月8日        236   \n",
       "2  BV1pV411o7yD  辉夜大小姐想让我告白？～天才们的恋爱头脑战～  搞笑,校园,恋爱,漫画改,  2020年4月12日        190   \n",
       "3  BV11x411q7iu           欢迎来到实力至上主义的教室        小说改,校园,  2017年7月13日        310   \n",
       "4  BV1ox411Q7V7                  埃罗芒阿老师     小说改,搞笑,恋爱,   2017年4月9日        152   \n",
       "\n",
       "   short_comm                                        detail_link  \n",
       "0      117950  http://www.bilibili.com/bangumi/media/md22718131/  \n",
       "1       20754    http://www.bilibili.com/bangumi/media/md102392/  \n",
       "2       19169  http://www.bilibili.com/bangumi/media/md28228367/  \n",
       "3       21943      http://www.bilibili.com/bangumi/media/md6339/  \n",
       "4       15227      http://www.bilibili.com/bangumi/media/md5997/  "
      ]
     },
     "execution_count": 56,
     "metadata": {},
     "output_type": "execute_result"
    }
   ],
   "source": [
    "video_df.head()"
   ]
  },
  {
   "cell_type": "code",
   "execution_count": 57,
   "metadata": {},
   "outputs": [
    {
     "data": {
      "text/plain": [
       "(69690, 4)"
      ]
     },
     "execution_count": 57,
     "metadata": {},
     "output_type": "execute_result"
    }
   ],
   "source": [
    "rating = pd.read_csv('rating_data.csv')\n",
    "rating.shape"
   ]
  },
  {
   "cell_type": "code",
   "execution_count": 58,
   "metadata": {},
   "outputs": [
    {
     "data": {
      "text/plain": [
       "(69657, 4)"
      ]
     },
     "execution_count": 58,
     "metadata": {},
     "output_type": "execute_result"
    }
   ],
   "source": [
    "# 去重\n",
    "rating_df = rating_df.drop_duplicates()\n",
    "rating_df.shape"
   ]
  },
  {
   "cell_type": "code",
   "execution_count": 59,
   "metadata": {},
   "outputs": [
    {
     "data": {
      "text/html": [
       "<div>\n",
       "<style scoped>\n",
       "    .dataframe tbody tr th:only-of-type {\n",
       "        vertical-align: middle;\n",
       "    }\n",
       "\n",
       "    .dataframe tbody tr th {\n",
       "        vertical-align: top;\n",
       "    }\n",
       "\n",
       "    .dataframe thead th {\n",
       "        text-align: right;\n",
       "    }\n",
       "</style>\n",
       "<table border=\"1\" class=\"dataframe\">\n",
       "  <thead>\n",
       "    <tr style=\"text-align: right;\">\n",
       "      <th></th>\n",
       "      <th>user_id_name</th>\n",
       "      <th>v_id</th>\n",
       "      <th>rating</th>\n",
       "      <th>rating_time</th>\n",
       "    </tr>\n",
       "  </thead>\n",
       "  <tbody>\n",
       "    <tr>\n",
       "      <td>0</td>\n",
       "      <td>Canbuno</td>\n",
       "      <td>BV1Lb4113744</td>\n",
       "      <td>5</td>\n",
       "      <td>2019-12-29</td>\n",
       "    </tr>\n",
       "    <tr>\n",
       "      <td>1</td>\n",
       "      <td>永远爱食蜂</td>\n",
       "      <td>BV1Lb4113744</td>\n",
       "      <td>5</td>\n",
       "      <td>2020-05-01</td>\n",
       "    </tr>\n",
       "    <tr>\n",
       "      <td>2</td>\n",
       "      <td>叶子上的脉</td>\n",
       "      <td>BV1Lb4113744</td>\n",
       "      <td>5</td>\n",
       "      <td>2020-05-01</td>\n",
       "    </tr>\n",
       "    <tr>\n",
       "      <td>3</td>\n",
       "      <td>yourshoulds</td>\n",
       "      <td>BV1Lb4113744</td>\n",
       "      <td>5</td>\n",
       "      <td>2020-05-07</td>\n",
       "    </tr>\n",
       "    <tr>\n",
       "      <td>4</td>\n",
       "      <td>江小白_vlog</td>\n",
       "      <td>BV1Lb4113744</td>\n",
       "      <td>5</td>\n",
       "      <td>2020-05-06</td>\n",
       "    </tr>\n",
       "  </tbody>\n",
       "</table>\n",
       "</div>"
      ],
      "text/plain": [
       "  user_id_name          v_id  rating rating_time\n",
       "0      Canbuno  BV1Lb4113744       5  2019-12-29\n",
       "1        永远爱食蜂  BV1Lb4113744       5  2020-05-01\n",
       "2        叶子上的脉  BV1Lb4113744       5  2020-05-01\n",
       "3  yourshoulds  BV1Lb4113744       5  2020-05-07\n",
       "4     江小白_vlog  BV1Lb4113744       5  2020-05-06"
      ]
     },
     "execution_count": 59,
     "metadata": {},
     "output_type": "execute_result"
    }
   ],
   "source": [
    "rating_df.head()"
   ]
  },
  {
   "cell_type": "markdown",
   "metadata": {},
   "source": [
    "## 番剧信息里面的'year'进行处理"
   ]
  },
  {
   "cell_type": "code",
   "execution_count": 60,
   "metadata": {},
   "outputs": [
    {
     "data": {
      "text/plain": [
       "0       2019年4月7日\n",
       "1       2018年7月8日\n",
       "2      2020年4月12日\n",
       "3      2017年7月13日\n",
       "4       2017年4月9日\n",
       "          ...    \n",
       "345     2018年4月5日\n",
       "346    2014年10月4日\n",
       "347     2009年4月2日\n",
       "348    2007年7月26日\n",
       "349    2016年10月4日\n",
       "Name: year, Length: 350, dtype: object"
      ]
     },
     "execution_count": 60,
     "metadata": {},
     "output_type": "execute_result"
    }
   ],
   "source": [
    "video_df['year']"
   ]
  },
  {
   "cell_type": "code",
   "execution_count": 61,
   "metadata": {},
   "outputs": [
    {
     "data": {
      "text/plain": [
       "0       2019-4-7\n",
       "1       2018-7-8\n",
       "2      2020-4-12\n",
       "3      2017-7-13\n",
       "4       2017-4-9\n",
       "         ...    \n",
       "345     2018-4-5\n",
       "346    2014-10-4\n",
       "347     2009-4-2\n",
       "348    2007-7-26\n",
       "349    2016-10-4\n",
       "Name: time, Length: 350, dtype: object"
      ]
     },
     "execution_count": 61,
     "metadata": {},
     "output_type": "execute_result"
    }
   ],
   "source": [
    "video_df['time']=video_df['year'].apply(lambda x: x.replace('年','-').replace('月','-').replace('日',''))\n",
    "video_df['time']"
   ]
  },
  {
   "cell_type": "code",
   "execution_count": 62,
   "metadata": {
    "collapsed": true
   },
   "outputs": [],
   "source": [
    "video_df['v_year']=video_df['time'].apply(lambda x: x.split('-')[0])\n",
    "video_df['v_month']=video_df['time'].apply(lambda x: x.split('-')[1])"
   ]
  },
  {
   "cell_type": "code",
   "execution_count": 65,
   "metadata": {},
   "outputs": [
    {
     "data": {
      "text/html": [
       "<div>\n",
       "<style scoped>\n",
       "    .dataframe tbody tr th:only-of-type {\n",
       "        vertical-align: middle;\n",
       "    }\n",
       "\n",
       "    .dataframe tbody tr th {\n",
       "        vertical-align: top;\n",
       "    }\n",
       "\n",
       "    .dataframe thead th {\n",
       "        text-align: right;\n",
       "    }\n",
       "</style>\n",
       "<table border=\"1\" class=\"dataframe\">\n",
       "  <thead>\n",
       "    <tr style=\"text-align: right;\">\n",
       "      <th></th>\n",
       "      <th>v_id</th>\n",
       "      <th>title</th>\n",
       "      <th>genres</th>\n",
       "      <th>year</th>\n",
       "      <th>long_comm</th>\n",
       "      <th>short_comm</th>\n",
       "      <th>detail_link</th>\n",
       "      <th>time</th>\n",
       "      <th>v_year</th>\n",
       "      <th>v_month</th>\n",
       "      <th>rating_count</th>\n",
       "    </tr>\n",
       "  </thead>\n",
       "  <tbody>\n",
       "    <tr>\n",
       "      <td>0</td>\n",
       "      <td>BV1Lb4113744</td>\n",
       "      <td>鬼灭之刃</td>\n",
       "      <td>漫画改,战斗,热血,声控,</td>\n",
       "      <td>2019年4月7日</td>\n",
       "      <td>571</td>\n",
       "      <td>117950</td>\n",
       "      <td>http://www.bilibili.com/bangumi/media/md22718131/</td>\n",
       "      <td>2019-4-7</td>\n",
       "      <td>2019</td>\n",
       "      <td>4</td>\n",
       "      <td>118521</td>\n",
       "    </tr>\n",
       "    <tr>\n",
       "      <td>1</td>\n",
       "      <td>BV1as411p7ae</td>\n",
       "      <td>工作细胞</td>\n",
       "      <td>搞笑,战斗,日常,声控,</td>\n",
       "      <td>2018年7月8日</td>\n",
       "      <td>236</td>\n",
       "      <td>20754</td>\n",
       "      <td>http://www.bilibili.com/bangumi/media/md102392/</td>\n",
       "      <td>2018-7-8</td>\n",
       "      <td>2018</td>\n",
       "      <td>7</td>\n",
       "      <td>20990</td>\n",
       "    </tr>\n",
       "  </tbody>\n",
       "</table>\n",
       "</div>"
      ],
      "text/plain": [
       "           v_id title         genres       year  long_comm  short_comm  \\\n",
       "0  BV1Lb4113744  鬼灭之刃  漫画改,战斗,热血,声控,  2019年4月7日        571      117950   \n",
       "1  BV1as411p7ae  工作细胞   搞笑,战斗,日常,声控,  2018年7月8日        236       20754   \n",
       "\n",
       "                                         detail_link      time v_year v_month  \\\n",
       "0  http://www.bilibili.com/bangumi/media/md22718131/  2019-4-7   2019       4   \n",
       "1    http://www.bilibili.com/bangumi/media/md102392/  2018-7-8   2018       7   \n",
       "\n",
       "   rating_count  \n",
       "0        118521  \n",
       "1         20990  "
      ]
     },
     "execution_count": 65,
     "metadata": {},
     "output_type": "execute_result"
    }
   ],
   "source": [
    "video_df.head(2)"
   ]
  },
  {
   "cell_type": "code",
   "execution_count": 79,
   "metadata": {
    "scrolled": true
   },
   "outputs": [
    {
     "data": {
      "text/html": [
       "<div>\n",
       "<style scoped>\n",
       "    .dataframe tbody tr th:only-of-type {\n",
       "        vertical-align: middle;\n",
       "    }\n",
       "\n",
       "    .dataframe tbody tr th {\n",
       "        vertical-align: top;\n",
       "    }\n",
       "\n",
       "    .dataframe thead th {\n",
       "        text-align: right;\n",
       "    }\n",
       "</style>\n",
       "<table border=\"1\" class=\"dataframe\">\n",
       "  <thead>\n",
       "    <tr style=\"text-align: right;\">\n",
       "      <th></th>\n",
       "      <th>v_id</th>\n",
       "      <th>title</th>\n",
       "      <th>genres</th>\n",
       "      <th>year</th>\n",
       "      <th>long_comm</th>\n",
       "      <th>short_comm</th>\n",
       "      <th>detail_link</th>\n",
       "      <th>time</th>\n",
       "      <th>v_year</th>\n",
       "      <th>v_month</th>\n",
       "      <th>rating_count</th>\n",
       "    </tr>\n",
       "  </thead>\n",
       "  <tbody>\n",
       "    <tr>\n",
       "      <td>0</td>\n",
       "      <td>BV1Lb4113744</td>\n",
       "      <td>鬼灭之刃</td>\n",
       "      <td>漫画改,战斗,热血,声控,</td>\n",
       "      <td>2019年4月7日</td>\n",
       "      <td>571</td>\n",
       "      <td>117950</td>\n",
       "      <td>http://www.bilibili.com/bangumi/media/md22718131/</td>\n",
       "      <td>2019-4-7</td>\n",
       "      <td>2019</td>\n",
       "      <td>4</td>\n",
       "      <td>118521</td>\n",
       "    </tr>\n",
       "    <tr>\n",
       "      <td>1</td>\n",
       "      <td>BV1as411p7ae</td>\n",
       "      <td>工作细胞</td>\n",
       "      <td>搞笑,战斗,日常,声控,</td>\n",
       "      <td>2018年7月8日</td>\n",
       "      <td>236</td>\n",
       "      <td>20754</td>\n",
       "      <td>http://www.bilibili.com/bangumi/media/md102392/</td>\n",
       "      <td>2018-7-8</td>\n",
       "      <td>2018</td>\n",
       "      <td>7</td>\n",
       "      <td>20990</td>\n",
       "    </tr>\n",
       "  </tbody>\n",
       "</table>\n",
       "</div>"
      ],
      "text/plain": [
       "           v_id title         genres       year  long_comm  short_comm  \\\n",
       "0  BV1Lb4113744  鬼灭之刃  漫画改,战斗,热血,声控,  2019年4月7日        571      117950   \n",
       "1  BV1as411p7ae  工作细胞   搞笑,战斗,日常,声控,  2018年7月8日        236       20754   \n",
       "\n",
       "                                         detail_link      time v_year v_month  \\\n",
       "0  http://www.bilibili.com/bangumi/media/md22718131/  2019-4-7   2019       4   \n",
       "1    http://www.bilibili.com/bangumi/media/md102392/  2018-7-8   2018       7   \n",
       "\n",
       "   rating_count  \n",
       "0        118521  \n",
       "1         20990  "
      ]
     },
     "execution_count": 79,
     "metadata": {},
     "output_type": "execute_result"
    }
   ],
   "source": [
    "# 计算每个被评论的次数\n",
    "video_df['rating_count'] = video_df.long_comm+video_df.short_comm\n",
    "video_df.head(2)"
   ]
  },
  {
   "cell_type": "code",
   "execution_count": 81,
   "metadata": {},
   "outputs": [
    {
     "data": {
      "text/html": [
       "<div>\n",
       "<style scoped>\n",
       "    .dataframe tbody tr th:only-of-type {\n",
       "        vertical-align: middle;\n",
       "    }\n",
       "\n",
       "    .dataframe tbody tr th {\n",
       "        vertical-align: top;\n",
       "    }\n",
       "\n",
       "    .dataframe thead th {\n",
       "        text-align: right;\n",
       "    }\n",
       "</style>\n",
       "<table border=\"1\" class=\"dataframe\">\n",
       "  <thead>\n",
       "    <tr style=\"text-align: right;\">\n",
       "      <th></th>\n",
       "      <th>v_id</th>\n",
       "      <th>title</th>\n",
       "      <th>genres</th>\n",
       "      <th>v_year</th>\n",
       "      <th>v_month</th>\n",
       "      <th>rating_count</th>\n",
       "    </tr>\n",
       "  </thead>\n",
       "  <tbody>\n",
       "    <tr>\n",
       "      <td>0</td>\n",
       "      <td>BV1Lb4113744</td>\n",
       "      <td>鬼灭之刃</td>\n",
       "      <td>漫画改,战斗,热血,声控,</td>\n",
       "      <td>2019</td>\n",
       "      <td>4</td>\n",
       "      <td>118521</td>\n",
       "    </tr>\n",
       "    <tr>\n",
       "      <td>1</td>\n",
       "      <td>BV1as411p7ae</td>\n",
       "      <td>工作细胞</td>\n",
       "      <td>搞笑,战斗,日常,声控,</td>\n",
       "      <td>2018</td>\n",
       "      <td>7</td>\n",
       "      <td>20990</td>\n",
       "    </tr>\n",
       "  </tbody>\n",
       "</table>\n",
       "</div>"
      ],
      "text/plain": [
       "           v_id title         genres v_year v_month  rating_count\n",
       "0  BV1Lb4113744  鬼灭之刃  漫画改,战斗,热血,声控,   2019       4        118521\n",
       "1  BV1as411p7ae  工作细胞   搞笑,战斗,日常,声控,   2018       7         20990"
      ]
     },
     "execution_count": 81,
     "metadata": {},
     "output_type": "execute_result"
    }
   ],
   "source": [
    "# 取需要的属性列\n",
    "new_video_df = video_df.iloc[:,[0,1,2,8,9,10]]\n",
    "new_video_df.head(2)"
   ]
  },
  {
   "cell_type": "code",
   "execution_count": 69,
   "metadata": {
    "scrolled": true
   },
   "outputs": [
    {
     "data": {
      "text/html": [
       "<div>\n",
       "<style scoped>\n",
       "    .dataframe tbody tr th:only-of-type {\n",
       "        vertical-align: middle;\n",
       "    }\n",
       "\n",
       "    .dataframe tbody tr th {\n",
       "        vertical-align: top;\n",
       "    }\n",
       "\n",
       "    .dataframe thead th {\n",
       "        text-align: right;\n",
       "    }\n",
       "</style>\n",
       "<table border=\"1\" class=\"dataframe\">\n",
       "  <thead>\n",
       "    <tr style=\"text-align: right;\">\n",
       "      <th></th>\n",
       "      <th>rating_mean</th>\n",
       "    </tr>\n",
       "    <tr>\n",
       "      <th>v_id</th>\n",
       "      <th></th>\n",
       "    </tr>\n",
       "  </thead>\n",
       "  <tbody>\n",
       "    <tr>\n",
       "      <td>BV114411F7ac</td>\n",
       "      <td>4.656522</td>\n",
       "    </tr>\n",
       "    <tr>\n",
       "      <td>BV11W411B7fD</td>\n",
       "      <td>4.982609</td>\n",
       "    </tr>\n",
       "    <tr>\n",
       "      <td>BV11t411s776</td>\n",
       "      <td>4.965217</td>\n",
       "    </tr>\n",
       "    <tr>\n",
       "      <td>BV11t411s7Ay</td>\n",
       "      <td>4.952174</td>\n",
       "    </tr>\n",
       "    <tr>\n",
       "      <td>BV11x411q7iu</td>\n",
       "      <td>4.795652</td>\n",
       "    </tr>\n",
       "  </tbody>\n",
       "</table>\n",
       "</div>"
      ],
      "text/plain": [
       "              rating_mean\n",
       "v_id                     \n",
       "BV114411F7ac     4.656522\n",
       "BV11W411B7fD     4.982609\n",
       "BV11t411s776     4.965217\n",
       "BV11t411s7Ay     4.952174\n",
       "BV11x411q7iu     4.795652"
      ]
     },
     "execution_count": 69,
     "metadata": {},
     "output_type": "execute_result"
    }
   ],
   "source": [
    "# 获取每个的平均评分\n",
    "rating_means = pd.DataFrame(rating_df.groupby('v_id').mean()['rating'])\n",
    "rating_means.columns = ['rating_mean']\n",
    "rating_means.head()"
   ]
  },
  {
   "cell_type": "code",
   "execution_count": 85,
   "metadata": {},
   "outputs": [
    {
     "data": {
      "text/html": [
       "<div>\n",
       "<style scoped>\n",
       "    .dataframe tbody tr th:only-of-type {\n",
       "        vertical-align: middle;\n",
       "    }\n",
       "\n",
       "    .dataframe tbody tr th {\n",
       "        vertical-align: top;\n",
       "    }\n",
       "\n",
       "    .dataframe thead th {\n",
       "        text-align: right;\n",
       "    }\n",
       "</style>\n",
       "<table border=\"1\" class=\"dataframe\">\n",
       "  <thead>\n",
       "    <tr style=\"text-align: right;\">\n",
       "      <th></th>\n",
       "      <th>v_id</th>\n",
       "      <th>title</th>\n",
       "      <th>genres</th>\n",
       "      <th>v_year</th>\n",
       "      <th>v_month</th>\n",
       "      <th>rating_count</th>\n",
       "      <th>rating_mean</th>\n",
       "    </tr>\n",
       "  </thead>\n",
       "  <tbody>\n",
       "    <tr>\n",
       "      <td>0</td>\n",
       "      <td>BV1Lb4113744</td>\n",
       "      <td>鬼灭之刃</td>\n",
       "      <td>漫画改,战斗,热血,声控,</td>\n",
       "      <td>2019</td>\n",
       "      <td>4</td>\n",
       "      <td>118521</td>\n",
       "      <td>4.969565</td>\n",
       "    </tr>\n",
       "    <tr>\n",
       "      <td>1</td>\n",
       "      <td>BV1as411p7ae</td>\n",
       "      <td>工作细胞</td>\n",
       "      <td>搞笑,战斗,日常,声控,</td>\n",
       "      <td>2018</td>\n",
       "      <td>7</td>\n",
       "      <td>20990</td>\n",
       "      <td>4.952174</td>\n",
       "    </tr>\n",
       "  </tbody>\n",
       "</table>\n",
       "</div>"
      ],
      "text/plain": [
       "           v_id title         genres v_year v_month  rating_count  rating_mean\n",
       "0  BV1Lb4113744  鬼灭之刃  漫画改,战斗,热血,声控,   2019       4        118521     4.969565\n",
       "1  BV1as411p7ae  工作细胞   搞笑,战斗,日常,声控,   2018       7         20990     4.952174"
      ]
     },
     "execution_count": 85,
     "metadata": {},
     "output_type": "execute_result"
    }
   ],
   "source": [
    "# 合并数据\n",
    "video_total = pd.merge(new_video_df, rating_means, on='v_id')\n",
    "# video_total = video_total.sort_values(by=\"rating_count\", ascending=False)\n",
    "video_total.head(2)"
   ]
  },
  {
   "cell_type": "code",
   "execution_count": null,
   "metadata": {
    "collapsed": true
   },
   "outputs": [],
   "source": []
  }
 ],
 "metadata": {
  "kernelspec": {
   "display_name": "Python 3",
   "language": "python",
   "name": "python3"
  },
  "language_info": {
   "codemirror_mode": {
    "name": "ipython",
    "version": 3
   },
   "file_extension": ".py",
   "mimetype": "text/x-python",
   "name": "python",
   "nbconvert_exporter": "python",
   "pygments_lexer": "ipython3",
   "version": "3.6.5"
  }
 },
 "nbformat": 4,
 "nbformat_minor": 2
}
